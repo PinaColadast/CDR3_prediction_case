{
  "nbformat": 4,
  "nbformat_minor": 0,
  "metadata": {
    "colab": {
      "name": "deepCDR_task2.ipynb",
      "provenance": [],
      "collapsed_sections": [],
      "machine_shape": "hm",
      "authorship_tag": "ABX9TyOozNXLaM1imPwi3idBQysR",
      "include_colab_link": true
    },
    "kernelspec": {
      "name": "python3",
      "display_name": "Python 3"
    },
    "language_info": {
      "name": "python"
    }
  },
  "cells": [
    {
      "cell_type": "markdown",
      "metadata": {
        "id": "view-in-github",
        "colab_type": "text"
      },
      "source": [
        "<a href=\"https://colab.research.google.com/github/PinaColadast/CDR3_prediction_case/blob/main/deepCDR_task2.ipynb\" target=\"_parent\"><img src=\"https://colab.research.google.com/assets/colab-badge.svg\" alt=\"Open In Colab\"/></a>"
      ]
    },
    {
      "cell_type": "code",
      "metadata": {
        "colab": {
          "base_uri": "https://localhost:8080/"
        },
        "id": "Ltv7P68eCGDh",
        "outputId": "257a77f4-26cd-4ac2-98a9-b4a23986b066"
      },
      "source": [
        "from google.colab import drive\n",
        "drive.mount(\"/content/gdrive\")\n"
      ],
      "execution_count": 1,
      "outputs": [
        {
          "output_type": "stream",
          "text": [
            "Mounted at /content/gdrive\n"
          ],
          "name": "stdout"
        }
      ]
    },
    {
      "cell_type": "code",
      "metadata": {
        "id": "b1S__7S5NDI7"
      },
      "source": [
        "pip install logomaker"
      ],
      "execution_count": null,
      "outputs": []
    },
    {
      "cell_type": "code",
      "metadata": {
        "id": "XWzOSbfu4os5",
        "colab": {
          "base_uri": "https://localhost:8080/"
        },
        "outputId": "cdcbfc8c-2914-4f30-d1ae-0ed3fb2edf31"
      },
      "source": [
        "#import library\n",
        "import sys\n",
        "import os\n",
        "import glob\n",
        "\n",
        "import numpy as np\n",
        "import pandas as pd\n",
        "import h5py\n",
        "\n",
        "import matplotlib.pyplot as plt\n",
        "import seaborn as sns\n",
        "import logomaker\n",
        "\n",
        "\n",
        "\n",
        "from keras.models import Model\n",
        "from keras.regularizers import l2\n",
        "from keras.preprocessing.text import Tokenizer\n",
        "from keras.preprocessing.sequence import pad_sequences\n",
        "from keras.layers import Input, Dense, Dropout, Flatten, Activation\n",
        "from keras.layers import Conv1D, Add, MaxPooling1D, BatchNormalization\n",
        "from keras import backend as K\n",
        "from keras import callbacks\n",
        "from keras.models import load_model\n",
        "\n",
        "\n",
        "\n",
        "from sklearn.preprocessing import OneHotEncoder \n",
        "from sklearn.model_selection import train_test_split\n",
        "from sklearn.preprocessing import LabelEncoder\n",
        "from sklearn.neighbors import KNeighborsRegressor\n",
        "from sklearn.model_selection import KFold\n",
        "from sklearn.metrics import mean_absolute_error, mean_squared_error\n",
        "\n",
        "\n",
        "\n",
        "import scipy as sp\n",
        "%unload_ext google.colab.data_table\n",
        "np.random.seed(42)"
      ],
      "execution_count": null,
      "outputs": [
        {
          "output_type": "stream",
          "text": [
            "The google.colab.data_table extension is not loaded.\n"
          ],
          "name": "stdout"
        }
      ]
    },
    {
      "cell_type": "code",
      "metadata": {
        "id": "qsOh1L-gCA-D"
      },
      "source": [
        "##read the files \n",
        "df_kd = pd.read_csv(\"/content/gdrive/My Drive/case_study/deepCDR/case_study_deepcdr/task2_affinities_table.csv\",\n",
        "                    index_col = 0)\n",
        "df_kd_test = pd.read_csv(\"/content/gdrive/My Drive/case_study/deepCDR/case_study_deepcdr/task2_affinities_test.csv\",\n",
        "                         index_col = 0)\n",
        "\n",
        "\n",
        "binding = glob.glob(\"/content/gdrive/My Drive/case_study/deepCDR/case_study_deepcdr/task1*_binding*.csv\")                  \n",
        "df_binding = pd.concat([pd.read_csv(f, sep= \",\", header=0, index_col=0) for f in binding])                     "
      ],
      "execution_count": null,
      "outputs": []
    },
    {
      "cell_type": "code",
      "metadata": {
        "id": "uq_CC7cyDqbf"
      },
      "source": [
        "df_kd"
      ],
      "execution_count": null,
      "outputs": []
    },
    {
      "cell_type": "code",
      "metadata": {
        "id": "YU4aItrCWv_1"
      },
      "source": [
        "df_kd[\"log_kD\"] = np.log(df_kd[\"KD (nM)\"])\n",
        "df_kd[\"affinity\"] = [\"high\" if i <0 else (\"low\" if i>1.5 else \"moderate\") for i in df_kd[\"log_kD\"] ]"
      ],
      "execution_count": null,
      "outputs": []
    },
    {
      "cell_type": "code",
      "metadata": {
        "colab": {
          "base_uri": "https://localhost:8080/",
          "height": 334
        },
        "id": "7XO-hM38BIFy",
        "outputId": "1128810f-d446-4431-d342-d0dd9be645e2"
      },
      "source": [
        "plt.style.use(\"ggplot\")\n",
        "plt.hist(df_kd[\"log_kD\"])\n",
        "\n",
        "df_kd.affinity.value_counts()"
      ],
      "execution_count": null,
      "outputs": [
        {
          "output_type": "execute_result",
          "data": {
            "text/plain": [
              "moderate    41\n",
              "low         32\n",
              "high        17\n",
              "Name: affinity, dtype: int64"
            ]
          },
          "metadata": {
            "tags": []
          },
          "execution_count": 107
        },
        {
          "output_type": "display_data",
          "data": {
            "image/png": "[encoded data removed]",
            "text/plain": [
              "<Figure size 432x288 with 1 Axes>"
            ]
          },
          "metadata": {
            "tags": []
          }
        }
      ]
    },
    {
      "cell_type": "code",
      "metadata": {
        "id": "6edvoNoTCust"
      },
      "source": [
        "df_sequence_bd = pd.read_csv(\"/content/gdrive/My Drive/case_study/deepCDR/sequencing_binding_clean.csv\", sep = \"\\t\",\n",
        "                             index_col = 0)"
      ],
      "execution_count": null,
      "outputs": []
    },
    {
      "cell_type": "code",
      "metadata": {
        "id": "P7rmEeWGMirS"
      },
      "source": [
        "def leven_distance(x,y):\n",
        "    if len(x)==len(y):\n",
        "      distance = np.sum([0 if x[i] == y[i] else 1 for i in range(len(x))])\n",
        "    else:\n",
        "      raise(\"sequence of different length\")\n",
        "    return distance"
      ],
      "execution_count": null,
      "outputs": []
    },
    {
      "cell_type": "code",
      "metadata": {
        "id": "LEhiOqXxQGQG"
      },
      "source": [
        "sq_bd = df_sequence_bd.index.tolist()\n",
        "sq_kd = df_kd.index.tolist() \n",
        "\n",
        "dist = np.zeros((len(sq_bd), len(sq_kd)))\n",
        "for i in range(len(sq_bd)):\n",
        "  for j in range(len(sq_kd)):\n",
        "    dist[i,j] = leven_distance(sq_bd[i], sq_kd[j]) \n"
      ],
      "execution_count": null,
      "outputs": []
    },
    {
      "cell_type": "code",
      "metadata": {
        "id": "VhygZFWx3aUP"
      },
      "source": [
        "def SequenceFrequencyCreator(df_sequence):\n",
        "    aa_list = ['G', 'A', 'L', 'M', 'F', 'W', 'K', 'Q', 'E', 'S', 'P', 'V', 'I', 'C', 'Y', 'H',\n",
        "           'R', 'N', 'D', 'T']\n",
        "    cnt_matrix = np.zeros((15, 20))\n",
        "    dict_sequence = dict(zip(df_sequence.index, df_sequence[\"CloneCount\"]))\n",
        "    for i in df_sequence.index:\n",
        "    # print(i)\n",
        "      for j,k in enumerate(i):\n",
        "        # print(j,k)\n",
        "          cnt_matrix[j, aa_list.index(k)] += 1*dict_sequence[i]\n",
        "    \n",
        "    df_freq = pd.DataFrame(cnt_matrix/cnt_matrix.sum(axis=1)[:, np.newaxis], index = range(0,15), columns = aa_list)\n",
        "    return df_freq\n",
        "  "
      ],
      "execution_count": null,
      "outputs": []
    },
    {
      "cell_type": "code",
      "metadata": {
        "id": "qLDvwH1RQ9C5"
      },
      "source": [
        "sns.clustermap(dist)"
      ],
      "execution_count": null,
      "outputs": []
    },
    {
      "cell_type": "code",
      "metadata": {
        "colab": {
          "base_uri": "https://localhost:8080/",
          "height": 454
        },
        "id": "-993a0I3hZiK",
        "outputId": "5f702303-32f2-4941-f021-5f5b557b9157"
      },
      "source": [
        "df_kd"
      ],
      "execution_count": null,
      "outputs": [
        {
          "output_type": "execute_result",
          "data": {
            "text/html": [
              "<div>\n",
              "<style scoped>\n",
              "    .dataframe tbody tr th:only-of-type {\n",
              "        vertical-align: middle;\n",
              "    }\n",
              "\n",
              "    .dataframe tbody tr th {\n",
              "        vertical-align: top;\n",
              "    }\n",
              "\n",
              "    .dataframe thead th {\n",
              "        text-align: right;\n",
              "    }\n",
              "</style>\n",
              "<table border=\"1\" class=\"dataframe\">\n",
              "  <thead>\n",
              "    <tr style=\"text-align: right;\">\n",
              "      <th></th>\n",
              "      <th>KD (nM)</th>\n",
              "      <th>kon</th>\n",
              "      <th>koff</th>\n",
              "      <th>log_kD</th>\n",
              "      <th>affinity</th>\n",
              "    </tr>\n",
              "    <tr>\n",
              "      <th>AASeq</th>\n",
              "      <th></th>\n",
              "      <th></th>\n",
              "      <th></th>\n",
              "      <th></th>\n",
              "      <th></th>\n",
              "    </tr>\n",
              "  </thead>\n",
              "  <tbody>\n",
              "    <tr>\n",
              "      <th>CSRWSEPGFYTNDYW</th>\n",
              "      <td>0.08287</td>\n",
              "      <td>146300</td>\n",
              "      <td>0.000012</td>\n",
              "      <td>-2.490482</td>\n",
              "      <td>high</td>\n",
              "    </tr>\n",
              "    <tr>\n",
              "      <th>CSRWMETGFYTHDYW</th>\n",
              "      <td>0.13700</td>\n",
              "      <td>105600</td>\n",
              "      <td>0.000014</td>\n",
              "      <td>-1.987774</td>\n",
              "      <td>high</td>\n",
              "    </tr>\n",
              "    <tr>\n",
              "      <th>CSRWKGDGFYEHDYW</th>\n",
              "      <td>0.33450</td>\n",
              "      <td>137900</td>\n",
              "      <td>0.000046</td>\n",
              "      <td>-1.095118</td>\n",
              "      <td>high</td>\n",
              "    </tr>\n",
              "    <tr>\n",
              "      <th>CSRWPGPGMYTNDYW</th>\n",
              "      <td>0.38080</td>\n",
              "      <td>266800</td>\n",
              "      <td>0.000102</td>\n",
              "      <td>-0.965481</td>\n",
              "      <td>high</td>\n",
              "    </tr>\n",
              "    <tr>\n",
              "      <th>CSRWPGPGMYANDYW</th>\n",
              "      <td>0.38850</td>\n",
              "      <td>240200</td>\n",
              "      <td>0.000093</td>\n",
              "      <td>-0.945462</td>\n",
              "      <td>high</td>\n",
              "    </tr>\n",
              "    <tr>\n",
              "      <th>...</th>\n",
              "      <td>...</td>\n",
              "      <td>...</td>\n",
              "      <td>...</td>\n",
              "      <td>...</td>\n",
              "      <td>...</td>\n",
              "    </tr>\n",
              "    <tr>\n",
              "      <th>CSRWDRPGLYEHDYW</th>\n",
              "      <td>11.81000</td>\n",
              "      <td>60730</td>\n",
              "      <td>0.000717</td>\n",
              "      <td>2.468947</td>\n",
              "      <td>low</td>\n",
              "    </tr>\n",
              "    <tr>\n",
              "      <th>CSRWDVDGFYVFDYW</th>\n",
              "      <td>12.68000</td>\n",
              "      <td>331000</td>\n",
              "      <td>0.004198</td>\n",
              "      <td>2.540026</td>\n",
              "      <td>low</td>\n",
              "    </tr>\n",
              "    <tr>\n",
              "      <th>CSRYGQPGMYEHDYW</th>\n",
              "      <td>13.32000</td>\n",
              "      <td>134000</td>\n",
              "      <td>0.001785</td>\n",
              "      <td>2.589267</td>\n",
              "      <td>low</td>\n",
              "    </tr>\n",
              "    <tr>\n",
              "      <th>CSRYGQPGLYEHDYW</th>\n",
              "      <td>18.34000</td>\n",
              "      <td>75260</td>\n",
              "      <td>0.001380</td>\n",
              "      <td>2.909084</td>\n",
              "      <td>low</td>\n",
              "    </tr>\n",
              "    <tr>\n",
              "      <th>CSRWSDIDFYEFTYW</th>\n",
              "      <td>18.59000</td>\n",
              "      <td>149400</td>\n",
              "      <td>0.002777</td>\n",
              "      <td>2.922624</td>\n",
              "      <td>low</td>\n",
              "    </tr>\n",
              "  </tbody>\n",
              "</table>\n",
              "<p>90 rows × 5 columns</p>\n",
              "</div>"
            ],
            "text/plain": [
              "                  KD (nM)     kon      koff    log_kD affinity\n",
              "AASeq                                                         \n",
              "CSRWSEPGFYTNDYW   0.08287  146300  0.000012 -2.490482     high\n",
              "CSRWMETGFYTHDYW   0.13700  105600  0.000014 -1.987774     high\n",
              "CSRWKGDGFYEHDYW   0.33450  137900  0.000046 -1.095118     high\n",
              "CSRWPGPGMYTNDYW   0.38080  266800  0.000102 -0.965481     high\n",
              "CSRWPGPGMYANDYW   0.38850  240200  0.000093 -0.945462     high\n",
              "...                   ...     ...       ...       ...      ...\n",
              "CSRWDRPGLYEHDYW  11.81000   60730  0.000717  2.468947      low\n",
              "CSRWDVDGFYVFDYW  12.68000  331000  0.004198  2.540026      low\n",
              "CSRYGQPGMYEHDYW  13.32000  134000  0.001785  2.589267      low\n",
              "CSRYGQPGLYEHDYW  18.34000   75260  0.001380  2.909084      low\n",
              "CSRWSDIDFYEFTYW  18.59000  149400  0.002777  2.922624      low\n",
              "\n",
              "[90 rows x 5 columns]"
            ]
          },
          "metadata": {
            "tags": []
          },
          "execution_count": 123
        }
      ]
    },
    {
      "cell_type": "markdown",
      "metadata": {
        "id": "qB6SYa4yCvRy"
      },
      "source": [
        "\n",
        "# the key is data augmentation....\n",
        "low data regime: usually follows two steps\n",
        "1. can we collect more data? \n",
        "2. data augmentation\n",
        "\n",
        "data imputation....\n",
        "data augmentation...\n",
        "\n",
        "https://www.biorxiv.org/content/10.1101/2021.02.18.431877v1.full.pdf\n",
        "K-means using the sequence before \n",
        "\n",
        "https://link.springer.com/article/10.1007/BF02300754\n",
        "# what is a conservative substituion? "
      ]
    },
    {
      "cell_type": "code",
      "metadata": {
        "id": "VZzbDXT24hS2"
      },
      "source": [
        "#protein AA replacement to augment data by chemistry meaning\n",
        "# probability to substitute one AA according to dict aa_replacement in sequence \n",
        "\n",
        "## for each sequence in training data do 100 times\n",
        "## each is a independent event follows bernoulli experiment with 0.1 as probability of substitution \n",
        "#from position 4aa to 13aa\n",
        "\n",
        "aa_replacement = {\"A\":\"V\", \"S\":\"T\", \"F\":\"Y\", \"K\":\"R\", \"C\":\"M\", \"D\":\"E\", \"N\":\"Q\", \"V\":\"I\",\n",
        "                  \"P\":\"P\", \"G\":\"G\", \"W\":\"W\", \"H\":\"H\", \"T\":\"S\", \"Y\":\"F\", \"M\":\"C\",\"E\":\"D\", \n",
        "                  \"Q\":\"N\", \"L\":\"L\", \"R\":\"K\", \"I\":\"V\"}\n",
        "\n",
        "\n",
        "def sequence_augmentation(sequence, n):\n",
        "    events = np.random.binomial(1, 0.1, n)\n",
        "    sub_position = np.random.randint(3,13, np.sum(events)).tolist()\n",
        "    new_sequence = [sequence[0:i]+aa_replacement[sequence[i]]+sequence[i+1:] for i in sub_position]\n",
        "\n",
        "    new_sequence.extend((n-np.sum(events))*[sequence])\n",
        "\n",
        "    return new_sequence\n"
      ],
      "execution_count": null,
      "outputs": []
    },
    {
      "cell_type": "code",
      "metadata": {
        "id": "_U7NWGByOpSj"
      },
      "source": [
        "# for kD , adding noise by Gaussian distribution N~(0,1)\n",
        "\n",
        "#create Gaussian noise, add 1% noise to the original data \n",
        "#(the noise level should be experiemented, let's stick to the noise level by rule of thumb)\n",
        "\n",
        "\n",
        "df_train_1, df_test = train_test_split(df_kd, test_size = 0.2, random_state=42,\n",
        "                                     stratify = df_kd.affinity)\n",
        "\n",
        "df_train, df_val = train_test_split(df_train_1, test_size = 0.2, random_state = 42,\n",
        "                                    stratify = df_train_1.affinity )\n",
        "\n",
        "\n",
        "\n",
        "\n",
        "mu, sigma = 0, 1 \n",
        "noise = np.random.normal(mu, sigma, 100).tolist()\n",
        "noise_level = 0.01\n",
        "\n",
        "aug_sequence = []\n",
        "aug_y = []\n",
        "aug_num = 100\n",
        "x_raw = df_train.index\n",
        "y_raw = df_train[\"log_kD\"]\n",
        "for i,j in enumerate(x_raw):\n",
        "    aug_sequence.extend(sequence_augmentation(j, aug_num))\n",
        "    y_noised = [(1-noise_level)*y_raw[i]+noise_level*noise[k] for k in range(0,100)]\n",
        "    aug_y.extend(y_noised)\n"
      ],
      "execution_count": null,
      "outputs": []
    },
    {
      "cell_type": "code",
      "metadata": {
        "colab": {
          "base_uri": "https://localhost:8080/",
          "height": 368
        },
        "id": "1Cy-iZdwSmQ1",
        "outputId": "479da144-bc68-420c-d9bd-4cdbf8feae96"
      },
      "source": [
        "plt.hist(df_kd[\"log_kD\"])\n",
        "plt.hist(noise)\n",
        "plt.hist(aug_y)\n",
        "\n",
        "# original distribution hasn't been shifted by the augmented y values make more\n",
        "# sense "
      ],
      "execution_count": null,
      "outputs": [
        {
          "output_type": "execute_result",
          "data": {
            "text/plain": [
              "(array([ 181.,   19.,  200.,  201.,  738.,  561., 1181., 1023., 1097.,\n",
              "         499.]),\n",
              " array([-2.50029164, -1.9582885 , -1.41628536, -0.87428221, -0.33227907,\n",
              "         0.20972407,  0.75172721,  1.29373036,  1.8357335 ,  2.37773664,\n",
              "         2.91973978]),\n",
              " <a list of 10 Patch objects>)"
            ]
          },
          "metadata": {
            "tags": []
          },
          "execution_count": 186
        },
        {
          "output_type": "display_data",
          "data": {
            "image/png": "[encoded data removed]",
            "text/plain": [
              "<Figure size 432x288 with 1 Axes>"
            ]
          },
          "metadata": {
            "tags": []
          }
        }
      ]
    },
    {
      "cell_type": "code",
      "metadata": {
        "id": "gLSSoJ08vQkc"
      },
      "source": [
        "#lets take a look at distribution of augmented data\n",
        "#making sequence logo of binders \n",
        "# lets look at that later.....need to modifiy frequency making \n",
        "plt.style.use(\"ggplot\")\n",
        "def sequence_logo_maker(df_freq):\n",
        "\n",
        "  crp_logo = logomaker.Logo(df_freq,\n",
        "                          shade_below=.5,\n",
        "                          fade_below=.5,\n",
        "                          font_name='Arial Rounded MT Bold')\n",
        "\n",
        "  crp_logo.style_spines(visible=False)\n",
        "  crp_logo.style_spines(spines=['left', 'bottom'], visible=True)\n",
        "  crp_logo.style_xticks(fmt='%d', anchor=0)\n",
        "\n",
        "  crp_logo.ax.set_ylabel(\"Frequency\", labelpad=-1)\n",
        "  crp_logo.ax.xaxis.set_ticks_position('none')\n",
        "\n",
        "  crp_logo.ax.set_xticklabels(range(1,16,1))\n",
        "  crp_logo.ax.xaxis.set_tick_params(pad=-1)\n",
        "\n",
        "# sequence_logo_maker()\n"
      ],
      "execution_count": null,
      "outputs": []
    },
    {
      "cell_type": "markdown",
      "metadata": {
        "id": "zJgKnM6kTM69"
      },
      "source": [
        "#ML: LSTM, CNN, random forest, transformer \n",
        "model representation? \n",
        "- NLP appraoch: language model: LSTM, BERT,\n",
        "- sequence feature approach : random forest...? SVM\n",
        "- one-hot encoding appraoch : CNN \n"
      ]
    },
    {
      "cell_type": "markdown",
      "metadata": {
        "id": "r3lOMyfFNR1o"
      },
      "source": [
        "#Feature engineering"
      ]
    },
    {
      "cell_type": "code",
      "metadata": {
        "id": "yNEHFkM74sL4"
      },
      "source": [
        "#create positional one-hot encoding for CDR3 sequence\n",
        "aa_list = ['G', 'A', 'L', 'M', 'F', 'W', 'K', 'Q', 'E', 'S', 'P', 'V', 'I', 'C', 'Y', 'H',\n",
        "           'R', 'N', 'D', 'T']\n",
        "\n",
        "\n",
        "enc = OneHotEncoder(handle_unknown='ignore')\n",
        "X_enc= np.array(aa_list).reshape(-1,1)\n",
        "enc.fit(X_enc)\n",
        "OneHotEncoder(handle_unknown='ignore')\n",
        "# enc.categories_\n",
        "\n",
        "def sequence_encoder(sequence):\n",
        "    sequence_2D  = np.array([enc.transform(np.array([i]).reshape(1,-1)).toarray() for i in sequence]).squeeze().tolist()\n",
        "    return sequence_2D\n",
        "\n",
        "\n"
      ],
      "execution_count": null,
      "outputs": []
    },
    {
      "cell_type": "code",
      "metadata": {
        "id": "w5pIj6ImRd23"
      },
      "source": [
        "#a bit slow\n",
        "\n",
        "#random select 4000 sequences for training\n",
        "select_index = np.random.randint(0,len(aug_sequence), 4000)\n",
        "\n",
        "X_train = np.array([np.array(sequence_encoder(i)).reshape(15,20) for i in aug_sequence])[select_index]\n",
        "y_train = np.array(aug_y)[select_index]\n",
        "\n",
        "X_val  =  np.array([np.array(sequence_encoder(i)).reshape(15,20) for i in df_val.index])\n",
        "y_val  =  df_val[\"log_kD\"]\n",
        "\n",
        "X_test =  np.array([np.array(sequence_encoder(i)).reshape(15,20) for i in df_test.index])\n",
        "y_test =  df_test[\"log_kD\"]\n"
      ],
      "execution_count": null,
      "outputs": []
    },
    {
      "cell_type": "markdown",
      "metadata": {
        "id": "w5I4-OIscOn2"
      },
      "source": [
        "# let's create a baseline model without data augmentation\n",
        "\n",
        "\n",
        "simple K-nearest neighbor model"
      ]
    },
    {
      "cell_type": "code",
      "metadata": {
        "id": "pQQQBdiyLifx"
      },
      "source": [
        "\"\"\"\n",
        "\n",
        "using hamming distance to measure position-encoded protein sequence \n",
        "\n",
        "\"\"\"\n",
        "\n",
        "# X_bs = np.array([np.array(sequence_encoder(i)).reshape(15,20).flatten() for i in df_kd.index])\n",
        "# y_bs = df_kd.log_kD\n",
        "\n",
        "\n",
        "\n",
        "# X_train_bs, X_test_bs, y_train_bs, y_test_bs = train_test_split(X_bs, y_bs, test_size=0.2, random_state=42,\n",
        "#                                                     stratify = df_kd.affinity)\n",
        "\n",
        "\n",
        "X_train_bs = np.array([np.array(sequence_encoder(i)).reshape(15,20).flatten() for i in aug_sequence])[select_index]\n",
        "y_train_bs = np.array(aug_y)[select_index]\n",
        "\n",
        "X_val_bs = np.array([np.array(sequence_encoder(i)).reshape(15,20).flatten() for i in df_val.index])\n",
        "y_val_bs = df_val.log_kD\n",
        "\n",
        "X_test_bs = np.array([np.array(sequence_encoder(i)).reshape(15,20).flatten() for i in df_test.index])\n",
        "y_test_bs = df_test.log_kD\n",
        "# cross-validation\n",
        "\n",
        "kf = KFold(n_splits=5, shuffle=False)\n",
        "\n",
        "MSE_cv   = []\n",
        "spearman = []\n",
        "\n",
        "for train_index, test_index in kf.split(X_train_bs):\n",
        "    X_cv_train, X_cv_test = X_train_bs[train_index], X_train_bs[test_index]\n",
        "    y_cv_train, y_cv_test = y_train_bs[train_index], y_train_bs[test_index]\n",
        "\n",
        "\n",
        "    neigh = KNeighborsRegressor(n_neighbors=3, metric=\"hamming\", weights = \"distance\")\n",
        "    neigh.fit(X_cv_train, y_cv_train)\n",
        "    \n",
        "    y_cv_pred = neigh.predict(X_cv_test)\n",
        "    \n",
        "    MSE_cv.append(mean_squared_error(y_cv_pred, y_cv_test))\n",
        "    spearman.append(sp.stats.spearmanr(y_cv_pred, y_cv_test))"
      ],
      "execution_count": null,
      "outputs": []
    },
    {
      "cell_type": "code",
      "metadata": {
        "colab": {
          "base_uri": "https://localhost:8080/"
        },
        "id": "g7v_EmEbnIQS",
        "outputId": "cd136acf-08c5-41fd-c6c4-c387e38e4134"
      },
      "source": [
        "print(\"averaged mean squared error for 4-fold Cross validation is: {0:.3f}\\nStandard deviation is : {1:.3f} \\n Spearman is: {2:.3f}\".format(np.mean(MSE_cv),\n",
        "     np.std(MSE_cv), np.mean(spearman)))"
      ],
      "execution_count": null,
      "outputs": [
        {
          "output_type": "stream",
          "text": [
            "averaged mean squared error for 4-fold Cross validation is: 0.003\n",
            "Standard deviation is : 0.005 \n",
            " Spearman is: 0.499\n"
          ],
          "name": "stdout"
        }
      ]
    },
    {
      "cell_type": "code",
      "metadata": {
        "colab": {
          "base_uri": "https://localhost:8080/"
        },
        "id": "3fyLp8Tet0u1",
        "outputId": "9c8c730c-47f3-4ec5-a7bd-a9305dbb8849"
      },
      "source": [
        "neigh = KNeighborsRegressor(n_neighbors=4, metric=\"hamming\", weights = \"distance\")\n",
        "neigh.fit(X_train_bs, y_train_bs)\n",
        "\n",
        "y_pred = neigh.predict(X_val_bs)\n",
        "print(sp.stats.spearmanr(y_pred, y_val_bs), \n",
        "mean_squared_error(y_pred, y_val_bs))"
      ],
      "execution_count": null,
      "outputs": [
        {
          "output_type": "stream",
          "text": [
            "SpearmanrResult(correlation=0.37857142857142856, pvalue=0.16409082655922064) 0.9057406473878511\n"
          ],
          "name": "stdout"
        }
      ]
    },
    {
      "cell_type": "code",
      "metadata": {
        "colab": {
          "base_uri": "https://localhost:8080/",
          "height": 282
        },
        "id": "Fn3Av0B2BWRJ",
        "outputId": "08cc9304-e4a2-4572-8f5a-9eed7c71a2b6"
      },
      "source": [
        "plt.scatter(y_pred, y_test_bs)\n",
        "\n",
        "# the baseline performance is really not so bad.....\n",
        "# what about with data augmentation? \n",
        "# with data augmentation the KNN performance was worse "
      ],
      "execution_count": null,
      "outputs": [
        {
          "output_type": "execute_result",
          "data": {
            "text/plain": [
              "<matplotlib.collections.PathCollection at 0x7fa4220f3410>"
            ]
          },
          "metadata": {
            "tags": []
          },
          "execution_count": 288
        },
        {
          "output_type": "display_data",
          "data": {
            "image/png": "[encoded data removed]",
            "text/plain": [
              "<Figure size 432x288 with 1 Axes>"
            ]
          },
          "metadata": {
            "tags": []
          }
        }
      ]
    },
    {
      "cell_type": "code",
      "metadata": {
        "id": "ueicEBYDDCW6"
      },
      "source": [
        ""
      ],
      "execution_count": null,
      "outputs": []
    },
    {
      "cell_type": "markdown",
      "metadata": {
        "id": "N90Su11Ze5EH"
      },
      "source": [
        "#Machine learning model - CNN\n"
      ]
    },
    {
      "cell_type": "code",
      "metadata": {
        "id": "4k3UkBO_qME8"
      },
      "source": [
        "def residual_block(data, filters, d_rate):\n",
        "  \"\"\"\n",
        "  _data: input\n",
        "  _filters: convolution filters\n",
        "  _d_rate: dilation rate\n",
        "  \"\"\"\n",
        "\n",
        "  shortcut = data\n",
        "\n",
        "  bn1 = BatchNormalization()(data)\n",
        "  act1 = Activation('relu')(bn1)\n",
        "  conv1 = Conv1D(filters, 1, dilation_rate=d_rate, padding='same', kernel_regularizer=l2(0.001))(act1)\n",
        "\n",
        "  #bottleneck convolution\n",
        "  bn2 = BatchNormalization()(conv1)\n",
        "  act2 = Activation('relu')(bn2)\n",
        "  conv2 = Conv1D(filters, 3, padding='same', kernel_regularizer=l2(0.001))(act2)\n",
        "\n",
        "  #skip connection\n",
        "  x = Add()([conv2, shortcut])\n",
        "\n",
        "  return x"
      ],
      "execution_count": null,
      "outputs": []
    },
    {
      "cell_type": "code",
      "metadata": {
        "colab": {
          "base_uri": "https://localhost:8080/"
        },
        "id": "vemG5JYirc8-",
        "outputId": "be104d22-8bfa-4262-d4fd-e2b2ebb91b06"
      },
      "source": [
        "from keras import metrics\n",
        "from keras.optimizers import SGD\n",
        "\n",
        "x_input = Input(shape=(15, 20))\n",
        "\n",
        "#initial conv\n",
        "conv = Conv1D(128, 3, padding='same')(x_input) \n",
        "\n",
        "# per-residue representation\n",
        "res1 = residual_block(conv, 128, 2)\n",
        "res2 = residual_block(res1, 128, 3)\n",
        "\n",
        "x = MaxPooling1D(3)(res2)\n",
        "x = Dropout(0.25)(x)\n",
        "\n",
        "# regression (linear activation function at the output layer)\n",
        "x = Flatten()(x)\n",
        "x = Dense(128, activation = \"relu\")(x)\n",
        "x_output = Dense(1, activation = \"linear\", kernel_regularizer=l2(0.0001))(x)\n",
        "\n",
        "opt = SGD(learning_rate=0.01, momentum=0.9)\n",
        "model_CNN = Model(inputs=x_input, outputs=x_output)\n",
        "model_CNN.compile(optimizer=\"adam\", loss=\"mean_squared_error\",\n",
        "                  metrics=[metrics.RootMeanSquaredError()])\n",
        "\n",
        "model_CNN.summary()"
      ],
      "execution_count": null,
      "outputs": [
        {
          "output_type": "stream",
          "text": [
            "Model: \"model_17\"\n",
            "__________________________________________________________________________________________________\n",
            "Layer (type)                    Output Shape         Param #     Connected to                     \n",
            "==================================================================================================\n",
            "input_19 (InputLayer)           [(None, 15, 20)]     0                                            \n",
            "__________________________________________________________________________________________________\n",
            "conv1d_90 (Conv1D)              (None, 15, 128)      7808        input_19[0][0]                   \n",
            "__________________________________________________________________________________________________\n",
            "batch_normalization_72 (BatchNo (None, 15, 128)      512         conv1d_90[0][0]                  \n",
            "__________________________________________________________________________________________________\n",
            "activation_72 (Activation)      (None, 15, 128)      0           batch_normalization_72[0][0]     \n",
            "__________________________________________________________________________________________________\n",
            "conv1d_91 (Conv1D)              (None, 15, 128)      16512       activation_72[0][0]              \n",
            "__________________________________________________________________________________________________\n",
            "batch_normalization_73 (BatchNo (None, 15, 128)      512         conv1d_91[0][0]                  \n",
            "__________________________________________________________________________________________________\n",
            "activation_73 (Activation)      (None, 15, 128)      0           batch_normalization_73[0][0]     \n",
            "__________________________________________________________________________________________________\n",
            "conv1d_92 (Conv1D)              (None, 15, 128)      49280       activation_73[0][0]              \n",
            "__________________________________________________________________________________________________\n",
            "add_36 (Add)                    (None, 15, 128)      0           conv1d_92[0][0]                  \n",
            "                                                                 conv1d_90[0][0]                  \n",
            "__________________________________________________________________________________________________\n",
            "batch_normalization_74 (BatchNo (None, 15, 128)      512         add_36[0][0]                     \n",
            "__________________________________________________________________________________________________\n",
            "activation_74 (Activation)      (None, 15, 128)      0           batch_normalization_74[0][0]     \n",
            "__________________________________________________________________________________________________\n",
            "conv1d_93 (Conv1D)              (None, 15, 128)      16512       activation_74[0][0]              \n",
            "__________________________________________________________________________________________________\n",
            "batch_normalization_75 (BatchNo (None, 15, 128)      512         conv1d_93[0][0]                  \n",
            "__________________________________________________________________________________________________\n",
            "activation_75 (Activation)      (None, 15, 128)      0           batch_normalization_75[0][0]     \n",
            "__________________________________________________________________________________________________\n",
            "conv1d_94 (Conv1D)              (None, 15, 128)      49280       activation_75[0][0]              \n",
            "__________________________________________________________________________________________________\n",
            "add_37 (Add)                    (None, 15, 128)      0           conv1d_94[0][0]                  \n",
            "                                                                 add_36[0][0]                     \n",
            "__________________________________________________________________________________________________\n",
            "max_pooling1d_18 (MaxPooling1D) (None, 5, 128)       0           add_37[0][0]                     \n",
            "__________________________________________________________________________________________________\n",
            "dropout_18 (Dropout)            (None, 5, 128)       0           max_pooling1d_18[0][0]           \n",
            "__________________________________________________________________________________________________\n",
            "flatten_18 (Flatten)            (None, 640)          0           dropout_18[0][0]                 \n",
            "__________________________________________________________________________________________________\n",
            "dense_23 (Dense)                (None, 128)          82048       flatten_18[0][0]                 \n",
            "__________________________________________________________________________________________________\n",
            "dense_24 (Dense)                (None, 1)            129         dense_23[0][0]                   \n",
            "==================================================================================================\n",
            "Total params: 223,617\n",
            "Trainable params: 222,593\n",
            "Non-trainable params: 1,024\n",
            "__________________________________________________________________________________________________\n"
          ],
          "name": "stdout"
        }
      ]
    },
    {
      "cell_type": "code",
      "metadata": {
        "id": "Ry8-UVt_seRo"
      },
      "source": [
        "es = EarlyStopping(monitor='val_loss', mode= \"min\", patience=20, verbose=1)\n",
        "mc = callbacks.ModelCheckpoint('/content/gdrive/My Drive/case_study/deepCDR/regre_best_model.h5', monitor='val_loss', mode='min')\n",
        "\n",
        "history1 = model_CNN.fit(\n",
        "    X_train, y_train,\n",
        "    epochs = 150, batch_size=32,\n",
        "    validation_data=(X_val, y_val),\n",
        "    callbacks=[es,mc]\n",
        "    )"
      ],
      "execution_count": null,
      "outputs": []
    },
    {
      "cell_type": "code",
      "metadata": {
        "id": "HXO72cRQrbqF"
      },
      "source": [
        "plt.style.use('ggplot')\n",
        "\n",
        "def plot_history(history):\n",
        "  acc = history.history['root_mean_squared_error']\n",
        "  val_acc = history.history['val_root_mean_squared_error']\n",
        "  loss = history.history['loss']\n",
        "  val_loss = history.history['val_loss']\n",
        "  x = range(1, len(acc) + 1)\n",
        "\n",
        "  plt.figure(figsize=(12, 5))\n",
        "  plt.subplot(1, 2, 1)\n",
        "  plt.plot(x, acc, 'b', label='Training performance')\n",
        "  plt.plot(x, val_acc, 'r', label='Validation performance')\n",
        "  plt.title('Training and validation accuracy')\n",
        "  plt.legend()\n",
        "\n",
        "  plt.subplot(1, 2, 2)\n",
        "  plt.plot(x, loss, 'b', label='Training loss')\n",
        "  plt.plot(x, val_loss, 'r', label='Validation loss')\n",
        "  plt.title('Training and validation loss')\n",
        "  plt.legend()\n",
        "\n",
        "def display_model_score(model, train, val, test, batch_size):\n",
        "\n",
        "  train_score = model.evaluate(train[0], train[1], batch_size=batch_size, verbose=1)\n",
        "  print('Train loss: ', train_score[0])\n",
        "  print('Train performance: ', train_score[1])\n",
        "  print('-'*70)\n",
        "\n",
        "  val_score = model.evaluate(val[0], val[1], batch_size=batch_size, verbose=1)\n",
        "  print('Val loss: ', val_score[0])\n",
        "  print('Val performance: ', val_score[1])\n",
        "  print('-'*70)\n",
        "  \n",
        "  test_score = model.evaluate(test[0], test[1], batch_size=batch_size, verbose=1)\n",
        "  print('Test loss: ', test_score[0])\n",
        "  print('Test performance: ', test_score[1])"
      ],
      "execution_count": null,
      "outputs": []
    },
    {
      "cell_type": "code",
      "metadata": {
        "id": "qQhkn8Meco2g"
      },
      "source": [
        "# model_CNN.save_weights('/content/gdrive/My Drive/case_study/deepCDR/regre_model_resCNN.h5')\n",
        "model_CNN.save_weights('/content/gdrive/My Drive/case_study/deepCDR/regre_model_resCNN2.h5')"
      ],
      "execution_count": null,
      "outputs": []
    },
    {
      "cell_type": "code",
      "metadata": {
        "id": "rUOTzTz8eQPE"
      },
      "source": [
        "model_CNN.load_weights('/content/gdrive/My Drive/case_study/deepCDR/regre_best_model.h5')"
      ],
      "execution_count": null,
      "outputs": []
    },
    {
      "cell_type": "code",
      "metadata": {
        "colab": {
          "base_uri": "https://localhost:8080/"
        },
        "id": "WM5ONLpK5bs6",
        "outputId": "779a05f1-2556-4b84-9d29-55bcbd4c4730"
      },
      "source": [
        "display_model_score(model_CNN,\n",
        "    [X_train, y_train],\n",
        "    [X_val, y_val],\n",
        "    [X_test_bs.reshape(18,15,20), y_test_bs],\n",
        "    32)"
      ],
      "execution_count": null,
      "outputs": [
        {
          "output_type": "stream",
          "text": [
            "125/125 [==============================] - 1s 6ms/step - loss: 0.0153 - root_mean_squared_error: 0.0864\n",
            "Train loss:  0.015272615477442741\n",
            "Train performance:  0.08644779771566391\n",
            "----------------------------------------------------------------------\n",
            "1/1 [==============================] - 0s 18ms/step - loss: 0.7088 - root_mean_squared_error: 0.8372\n",
            "Val loss:  0.7087544798851013\n",
            "Val performance:  0.8372306227684021\n",
            "----------------------------------------------------------------------\n",
            "1/1 [==============================] - 0s 19ms/step - loss: 0.6801 - root_mean_squared_error: 0.8199\n",
            "Test loss:  0.6801113486289978\n",
            "Test performance:  0.8199462890625\n"
          ],
          "name": "stdout"
        }
      ]
    },
    {
      "cell_type": "code",
      "metadata": {
        "id": "rLTHdtzSCAt7"
      },
      "source": [
        "aa = model_CNN.predict(X_test_bs.reshape(18,15,20))"
      ],
      "execution_count": null,
      "outputs": []
    },
    {
      "cell_type": "code",
      "metadata": {
        "colab": {
          "base_uri": "https://localhost:8080/"
        },
        "id": "Nn6Nfsh6CKrb",
        "outputId": "74686040-a05f-44f0-d531-6ca89811f255"
      },
      "source": [
        "sp.stats.spearmanr(aa, y_test_bs)"
      ],
      "execution_count": null,
      "outputs": [
        {
          "output_type": "execute_result",
          "data": {
            "text/plain": [
              "SpearmanrResult(correlation=0.7454828045597998, pvalue=0.00038375179844626363)"
            ]
          },
          "metadata": {
            "tags": []
          },
          "execution_count": 303
        }
      ]
    },
    {
      "cell_type": "code",
      "metadata": {
        "colab": {
          "base_uri": "https://localhost:8080/",
          "height": 282
        },
        "id": "BisB3gPeCaR_",
        "outputId": "1864e350-4d57-4b80-a28a-74256f5a33ae"
      },
      "source": [
        "plt.scatter(aa, y_test_bs)"
      ],
      "execution_count": null,
      "outputs": [
        {
          "output_type": "execute_result",
          "data": {
            "text/plain": [
              "<matplotlib.collections.PathCollection at 0x7fa42222d8d0>"
            ]
          },
          "metadata": {
            "tags": []
          },
          "execution_count": 284
        },
        {
          "output_type": "display_data",
          "data": {
            "image/png": "[encoded data removed]",
            "text/plain": [
              "<Figure size 432x288 with 1 Axes>"
            ]
          },
          "metadata": {
            "tags": []
          }
        }
      ]
    },
    {
      "cell_type": "code",
      "metadata": {
        "id": "3SrNAEsH0aad"
      },
      "source": [
        "df_ex_test[\"Sequence_2D\"] = df_ex_test.copy().apply(lambda row: sequence_encoder(row.name), axis = 1)\n",
        "df_ex_test[\"Sequence_1D\"] = [i[0] for i in df_ex_test[\"Sequence_2D\"]]"
      ],
      "execution_count": null,
      "outputs": []
    },
    {
      "cell_type": "code",
      "metadata": {
        "id": "wjGz3oFx3BgL"
      },
      "source": [
        "X_ex_test = np.array([np.array(x).reshape(15,20) for x in df_ex_test[\"Sequence_2D\"]])"
      ],
      "execution_count": null,
      "outputs": []
    },
    {
      "cell_type": "code",
      "metadata": {
        "id": "Xbz99RM03DkO"
      },
      "source": [
        "y_pred = model_CNN.predict(X_ex_test, batch_size = 32)\n",
        "y_pred_label = [1 if i >0.5 else 0 for i in y_pred.flatten()]"
      ],
      "execution_count": null,
      "outputs": []
    },
    {
      "cell_type": "code",
      "metadata": {
        "id": "3jRu6Qtp4LWY"
      },
      "source": [
        "df_ex_test[\"predicted_label\"] = y_pred_label\n",
        "df_predcited = df_ex_test.drop(columns = [\"Sequence_2D\", \"Sequence_1D\"])\n",
        "df_predcited.to_csv(\"/content/gdrive/My Drive/case_study/deepCDR/case_study_deepcdr/task1_predicted.csv\")"
      ],
      "execution_count": null,
      "outputs": []
    },
    {
      "cell_type": "code",
      "metadata": {
        "id": "5tKT-7hS7XiH"
      },
      "source": [
        ""
      ],
      "execution_count": null,
      "outputs": []
    }
  ]
}